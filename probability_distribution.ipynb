{
  "cells": [
    {
      "cell_type": "code",
      "execution_count": null,
      "metadata": {
        "id": "MmM05kz9gXa8"
      },
      "outputs": [],
      "source": [
        "import pandas as pd\n",
        "import random"
      ]
    },
    {
      "cell_type": "code",
      "execution_count": 2,
      "metadata": {
        "id": "7l-cH_-2EBwq"
      },
      "outputs": [],
      "source": [
        "L = []\n",
        "for i in range(10000):\n",
        "    L.append(random.randint(1,6))"
      ]
    },
    {
      "cell_type": "code",
      "execution_count": 3,
      "metadata": {
        "id": "5cs55cwNEB1L"
      },
      "outputs": [
        {
          "data": {
            "text/plain": [
              "10000"
            ]
          },
          "execution_count": 3,
          "metadata": {},
          "output_type": "execute_result"
        }
      ],
      "source": [
        "len(L)"
      ]
    },
    {
      "cell_type": "code",
      "execution_count": 4,
      "metadata": {
        "colab": {
          "base_uri": "https://localhost:8080/"
        },
        "id": "2620ZC8FEB5k",
        "outputId": "7a07d68a-cd59-474b-e841-12b70fc00a5b"
      },
      "outputs": [
        {
          "data": {
            "text/plain": [
              "[3, 6, 1, 5, 5]"
            ]
          },
          "execution_count": 4,
          "metadata": {},
          "output_type": "execute_result"
        }
      ],
      "source": [
        "L[:5]"
      ]
    },
    {
      "cell_type": "code",
      "execution_count": 8,
      "metadata": {
        "colab": {
          "base_uri": "https://localhost:8080/"
        },
        "id": "qUA2MblvEB7x",
        "outputId": "25557f47-b7a9-406b-8b2f-48ff63304486"
      },
      "outputs": [],
      "source": [
        "s = (pd.Series(L).value_counts()/pd.Series(L).value_counts().sum()).sort_index()"
      ]
    },
    {
      "cell_type": "code",
      "execution_count": 10,
      "metadata": {
        "id": "Hu76YIbdEB-E"
      },
      "outputs": [
        {
          "data": {
            "text/plain": [
              "<Axes: >"
            ]
          },
          "execution_count": 10,
          "metadata": {},
          "output_type": "execute_result"
        },
        {
          "data": {
            "image/png": "[encoded data removed]",
            "text/plain": [
              "<Figure size 640x480 with 1 Axes>"
            ]
          },
          "metadata": {},
          "output_type": "display_data"
        }
      ],
      "source": [
        "s.plot(kind='bar')"
      ]
    },
    {
      "cell_type": "code",
      "execution_count": 11,
      "metadata": {
        "colab": {
          "base_uri": "https://localhost:8080/"
        },
        "id": "ydYmwefR_F3R",
        "outputId": "0a52a761-815d-4245-ac02-226aa42092a3"
      },
      "outputs": [],
      "source": [
        "L = []\n",
        "for i in range(10000):\n",
        "    a = random.randint(1,6)\n",
        "    b = random.randint(1,6)\n",
        "    \n",
        "    L.append( a + b )"
      ]
    },
    {
      "cell_type": "code",
      "execution_count": 12,
      "metadata": {
        "colab": {
          "base_uri": "https://localhost:8080/",
          "height": 285
        },
        "id": "Sh5gkLeLECAh",
        "outputId": "75c4eae6-60f1-4f3e-f93a-8ce9dba8110a"
      },
      "outputs": [
        {
          "data": {
            "text/plain": [
              "10000"
            ]
          },
          "execution_count": 12,
          "metadata": {},
          "output_type": "execute_result"
        }
      ],
      "source": [
        "len(L)"
      ]
    },
    {
      "cell_type": "code",
      "execution_count": 13,
      "metadata": {
        "colab": {
          "base_uri": "https://localhost:8080/",
          "height": 285
        },
        "id": "FnuC_aQS-hx7",
        "outputId": "329d4d56-a5a0-4c6f-b8a0-a16d2a9d33ce"
      },
      "outputs": [
        {
          "data": {
            "text/plain": [
              "[8, 5, 8, 4, 7]"
            ]
          },
          "execution_count": 13,
          "metadata": {},
          "output_type": "execute_result"
        }
      ],
      "source": [
        "L[:5]"
      ]
    },
    {
      "cell_type": "code",
      "execution_count": null,
      "metadata": {},
      "outputs": [],
      "source": [
        "r = (pd.Series(L).value_counts()/pd.Series(L).value_counts().sum()).sort_index()"
      ]
    },
    {
      "cell_type": "code",
      "execution_count": null,
      "metadata": {},
      "outputs": [
        {
          "data": {
            "text/plain": [
              "<Axes: >"
            ]
          },
          "execution_count": 15,
          "metadata": {},
          "output_type": "execute_result"
        },
        {
          "data": {
            "image/png": "[encoded data removed]",
            "text/plain": [
              "<Figure size 640x480 with 1 Axes>"
            ]
          },
          "metadata": {},
          "output_type": "display_data"
        }
      ],
      "source": [
        "r.plot(kind='bar')"
      ]
    },
    {
      "cell_type": "markdown",
      "metadata": {
        "id": "wwfm9K_sDL1M"
      },
      "source": [
        "# Parametric Density Estimation"
      ]
    },
    {
      "cell_type": "code",
      "execution_count": null,
      "metadata": {
        "id": "Pj2zd24bDQnC"
      },
      "outputs": [],
      "source": [
        "import matplotlib.pyplot as plt\n",
        "import numpy as np\n",
        "from numpy.random import normal\n",
        "\n",
        "sample = normal(loc=50, scale=5,size=1000)"
      ]
    },
    {
      "cell_type": "code",
      "execution_count": null,
      "metadata": {
        "colab": {
          "base_uri": "https://localhost:8080/"
        },
        "id": "_rEna39pIYVI",
        "outputId": "da1fb9f3-da69-4714-92a3-fad89318691e"
      },
      "outputs": [],
      "source": [
        "sample.mean()"
      ]
    },
    {
      "cell_type": "code",
      "execution_count": null,
      "metadata": {
        "colab": {
          "base_uri": "https://localhost:8080/",
          "height": 352
        },
        "id": "M6dGCQ1i4QTM",
        "outputId": "dd86b9e9-df29-4f5d-ef31-3f894151c16c"
      },
      "outputs": [],
      "source": [
        "# plot histogram to understand the distribution of data\n",
        "plt.hist(sample,bins=10)"
      ]
    },
    {
      "cell_type": "code",
      "execution_count": null,
      "metadata": {
        "id": "X-v35mzRgjZ3"
      },
      "outputs": [],
      "source": [
        "# calculate sample mean and sample std dev\n",
        "sample_mean = sample.mean()\n",
        "sample_std = sample.std()"
      ]
    },
    {
      "cell_type": "code",
      "execution_count": null,
      "metadata": {
        "id": "5ur02_Xng9WR"
      },
      "outputs": [],
      "source": [
        "# fit the distribution with the above parameters\n",
        "\n",
        "from scipy.stats import norm\n",
        "dist = norm(60, 12)"
      ]
    },
    {
      "cell_type": "code",
      "execution_count": null,
      "metadata": {
        "id": "hlcOo447hkFR"
      },
      "outputs": [],
      "source": [
        "values = np.linspace(sample.min(),sample.max(),100)"
      ]
    },
    {
      "cell_type": "code",
      "execution_count": null,
      "metadata": {
        "colab": {
          "base_uri": "https://localhost:8080/"
        },
        "id": "BvZ48Ud_JGRu",
        "outputId": "29a09a40-6a37-48b4-9c45-289f648978cf"
      },
      "outputs": [],
      "source": [
        "sample.max()"
      ]
    },
    {
      "cell_type": "code",
      "execution_count": null,
      "metadata": {
        "id": "qOQvG9dqh_bd"
      },
      "outputs": [],
      "source": [
        "probabilities = [dist.pdf(value) for value in values]"
      ]
    },
    {
      "cell_type": "code",
      "execution_count": null,
      "metadata": {
        "colab": {
          "base_uri": "https://localhost:8080/",
          "height": 282
        },
        "id": "qh2YfPFXiJ8x",
        "outputId": "302b0092-460e-413f-f832-993b84da70b6"
      },
      "outputs": [],
      "source": [
        "# plot the histogram and pdf\n",
        "plt.hist(sample,bins=10,density=True)\n",
        "plt.plot(values,probabilities)"
      ]
    },
    {
      "cell_type": "code",
      "execution_count": null,
      "metadata": {
        "colab": {
          "base_uri": "https://localhost:8080/",
          "height": 337
        },
        "id": "3TgDJNrlJ24I",
        "outputId": "dd40abf9-509d-4ef7-f769-51d2bc252981"
      },
      "outputs": [],
      "source": [
        "import seaborn as sns\n",
        "sns.distplot(sample)"
      ]
    },
    {
      "cell_type": "markdown",
      "metadata": {
        "id": "wIKxiromDJmn"
      },
      "source": [
        "# KDE"
      ]
    },
    {
      "cell_type": "code",
      "execution_count": null,
      "metadata": {
        "id": "tANSTx4znAYG"
      },
      "outputs": [],
      "source": [
        "# generate a sample\n",
        "sample1 = normal(loc=20, scale=5, size=300)\n",
        "sample2 = normal(loc=40, scale=5, size=700)\n",
        "sample = np.hstack((sample1, sample2))"
      ]
    },
    {
      "cell_type": "code",
      "execution_count": null,
      "metadata": {
        "colab": {
          "base_uri": "https://localhost:8080/"
        },
        "id": "WagjEqX-NNxR",
        "outputId": "991f9d4e-4476-4cdd-8c6a-240c5c10f399"
      },
      "outputs": [],
      "source": [
        "sample"
      ]
    },
    {
      "cell_type": "code",
      "execution_count": null,
      "metadata": {
        "colab": {
          "base_uri": "https://localhost:8080/",
          "height": 543
        },
        "id": "8emYcLrbCYBv",
        "outputId": "4b98c24e-23d2-4c8b-d0b8-584fb5f6ac5f"
      },
      "outputs": [],
      "source": [
        "# plot histogram bins=50\n",
        "plt.hist(sample,bins=50)"
      ]
    },
    {
      "cell_type": "code",
      "execution_count": null,
      "metadata": {
        "colab": {
          "base_uri": "https://localhost:8080/",
          "height": 74
        },
        "id": "fxPkOU_iqtRB",
        "outputId": "90f29a3d-4d38-4800-eaa3-12f41f86630b"
      },
      "outputs": [],
      "source": [
        "from sklearn.neighbors import KernelDensity\n",
        "\n",
        "model = KernelDensity(bandwidth=5, kernel='gaussian')\n",
        "\n",
        "# convert data to a 2D array\n",
        "sample = sample.reshape((len(sample), 1))\n",
        "\n",
        "model.fit(sample)"
      ]
    },
    {
      "cell_type": "code",
      "execution_count": null,
      "metadata": {
        "id": "ACjbeWVnq90c"
      },
      "outputs": [],
      "source": [
        "values = np.linspace(sample.min(),sample.max(),100)\n",
        "values = values.reshape((len(values), 1))"
      ]
    },
    {
      "cell_type": "code",
      "execution_count": null,
      "metadata": {
        "id": "SdGSnDL-C60o"
      },
      "outputs": [],
      "source": [
        "probabilities = model.score_samples(values)\n",
        "probabilities = np.exp(probabilities)"
      ]
    },
    {
      "cell_type": "markdown",
      "metadata": {
        "id": "3WxOuZ5ZDsPG"
      },
      "source": [
        "`score_samples(values)` returns the log-density estimate of the input samples values. This is because the `score_samples()` method of the KernelDensity class returns the logarithm of the probability density estimate rather than the actual probability density estimate."
      ]
    },
    {
      "cell_type": "code",
      "execution_count": null,
      "metadata": {
        "colab": {
          "base_uri": "https://localhost:8080/",
          "height": 265
        },
        "id": "6Mx-98t9rDIZ",
        "outputId": "b8e82588-784f-4aa0-ab89-3f50b9c650f5"
      },
      "outputs": [],
      "source": [
        "plt.hist(sample, bins=50, density=True)\n",
        "plt.plot(values[:], probabilities)\n",
        "plt.show()"
      ]
    },
    {
      "cell_type": "code",
      "execution_count": null,
      "metadata": {
        "colab": {
          "base_uri": "https://localhost:8080/",
          "height": 282
        },
        "id": "DZ9gslUGOdZ0",
        "outputId": "f62b1d35-e11f-41a1-ebe8-67d943e59f4f"
      },
      "outputs": [],
      "source": [
        "sns.kdeplot(sample.reshape(1000),bw_adjust=0.02)"
      ]
    },
    {
      "cell_type": "code",
      "execution_count": null,
      "metadata": {
        "id": "48l9TEV3rP5h"
      },
      "outputs": [],
      "source": [
        "import seaborn as sns"
      ]
    },
    {
      "cell_type": "code",
      "execution_count": null,
      "metadata": {
        "id": "pvVbpaheO4yW"
      },
      "outputs": [],
      "source": [
        "df = sns.load_dataset('iris')"
      ]
    },
    {
      "cell_type": "code",
      "execution_count": null,
      "metadata": {
        "colab": {
          "base_uri": "https://localhost:8080/",
          "height": 206
        },
        "id": "GjfTUowqPBAQ",
        "outputId": "fd7d61fc-0bd7-4581-ec40-d03569a19740"
      },
      "outputs": [],
      "source": [
        "df.head()"
      ]
    },
    {
      "cell_type": "code",
      "execution_count": null,
      "metadata": {
        "colab": {
          "base_uri": "https://localhost:8080/",
          "height": 297
        },
        "id": "GWXYuEaXO6xA",
        "outputId": "caf9948b-ca46-457d-e8f7-a8f4d544e3b3"
      },
      "outputs": [],
      "source": [
        "sns.kdeplot(data=df,x='sepal_length',hue='species')"
      ]
    },
    {
      "cell_type": "code",
      "execution_count": null,
      "metadata": {
        "colab": {
          "base_uri": "https://localhost:8080/",
          "height": 297
        },
        "id": "HfD6ynwBSMh8",
        "outputId": "99c3c3e1-95a1-4b26-9874-e2967de686d8"
      },
      "outputs": [],
      "source": [
        "sns.kdeplot(data=df,x='sepal_width',hue='species')"
      ]
    },
    {
      "cell_type": "code",
      "execution_count": null,
      "metadata": {
        "colab": {
          "base_uri": "https://localhost:8080/",
          "height": 297
        },
        "id": "L017GVtXSMvj",
        "outputId": "89e77eee-27d9-4267-90a5-1bfb8cc98dde"
      },
      "outputs": [],
      "source": [
        "sns.kdeplot(data=df,x='petal_length',hue='species')"
      ]
    },
    {
      "cell_type": "code",
      "execution_count": null,
      "metadata": {
        "colab": {
          "base_uri": "https://localhost:8080/",
          "height": 297
        },
        "id": "QrkO_gNGSM6v",
        "outputId": "d76ccd7f-3190-4d44-98a8-2f22bd972335"
      },
      "outputs": [],
      "source": [
        "sns.kdeplot(data=df,x='petal_width',hue='species')"
      ]
    },
    {
      "cell_type": "code",
      "execution_count": null,
      "metadata": {
        "id": "lZSdzNveSNGV"
      },
      "outputs": [],
      "source": []
    },
    {
      "cell_type": "code",
      "execution_count": null,
      "metadata": {
        "colab": {
          "base_uri": "https://localhost:8080/",
          "height": 297
        },
        "id": "gO8eZwpPPEe9",
        "outputId": "e37821ca-5a29-4355-e319-e9812efe2d30"
      },
      "outputs": [],
      "source": [
        "sns.kdeplot(df['petal_width'],hue=df['species'])\n",
        "sns.ecdfplot(data=df,x='petal_width',hue='species')"
      ]
    },
    {
      "cell_type": "code",
      "execution_count": null,
      "metadata": {
        "id": "Es7lOOwyRk7T"
      },
      "outputs": [],
      "source": [
        "titanic = pd.read_csv('https://raw.githubusercontent.com/datasciencedojo/datasets/master/titanic.csv')"
      ]
    },
    {
      "cell_type": "code",
      "execution_count": null,
      "metadata": {
        "colab": {
          "base_uri": "https://localhost:8080/",
          "height": 285
        },
        "id": "WDggW8PYRlcr",
        "outputId": "f15af5a9-bac3-402e-c28d-44e140d92454"
      },
      "outputs": [],
      "source": [
        "titanic.head()"
      ]
    },
    {
      "cell_type": "code",
      "execution_count": null,
      "metadata": {
        "colab": {
          "base_uri": "https://localhost:8080/",
          "height": 296
        },
        "id": "mwYpnDPNSDu1",
        "outputId": "e61f9827-fd5d-4e89-b7df-77d5c2f85f78"
      },
      "outputs": [],
      "source": [
        "# code here\n",
        "sns.kdeplot(data=titanic,x='Age',hue='Sex')"
      ]
    },
    {
      "cell_type": "code",
      "execution_count": null,
      "metadata": {
        "colab": {
          "base_uri": "https://localhost:8080/",
          "height": 458
        },
        "id": "_5Az3OFmPNvn",
        "outputId": "1a5239a6-558b-4e4d-b9d5-1edf862d2f79"
      },
      "outputs": [],
      "source": [
        " sns.jointplot(data=df, x=\"petal_length\", y=\"sepal_length\", kind=\"kde\",fill=True,cbar=True)"
      ]
    },
    {
      "cell_type": "code",
      "execution_count": null,
      "metadata": {
        "colab": {
          "base_uri": "https://localhost:8080/",
          "height": 296
        },
        "id": "HuCPjhWQSz5Q",
        "outputId": "a4396b99-d3e8-4426-c3ff-d92fd74dda18"
      },
      "outputs": [],
      "source": [
        "sns.kdeplot(titanic['Age'])"
      ]
    },
    {
      "cell_type": "code",
      "execution_count": null,
      "metadata": {
        "colab": {
          "base_uri": "https://localhost:8080/"
        },
        "id": "UU8EvZtkzLJH",
        "outputId": "35da9e11-07dc-48ee-bed2-edde8ab367d8"
      },
      "outputs": [],
      "source": [
        "titanic['Age'].mean()"
      ]
    },
    {
      "cell_type": "code",
      "execution_count": null,
      "metadata": {
        "id": "-qZ7TLzXzWf6"
      },
      "outputs": [],
      "source": [
        "x = (titanic['Age'] - titanic['Age'].mean())/titanic['Age'].std()"
      ]
    },
    {
      "cell_type": "code",
      "execution_count": null,
      "metadata": {
        "colab": {
          "base_uri": "https://localhost:8080/",
          "height": 296
        },
        "id": "N1E-Wx3vzbpk",
        "outputId": "b8f9db68-59c2-47ce-8fb1-91089b3990fa"
      },
      "outputs": [],
      "source": [
        "sns.kdeplot(x)"
      ]
    },
    {
      "cell_type": "code",
      "execution_count": null,
      "metadata": {
        "colab": {
          "base_uri": "https://localhost:8080/"
        },
        "id": "HiyJuu1XzsS-",
        "outputId": "4442da60-baeb-44a4-b2eb-4999001d1d03"
      },
      "outputs": [],
      "source": [
        "x.mean()"
      ]
    },
    {
      "cell_type": "code",
      "execution_count": null,
      "metadata": {
        "colab": {
          "base_uri": "https://localhost:8080/"
        },
        "id": "hnxKg-YUzxBF",
        "outputId": "bc110ce5-2620-4aee-a9ba-4cdeebf06a6d"
      },
      "outputs": [],
      "source": [
        "x.std()"
      ]
    },
    {
      "cell_type": "code",
      "execution_count": null,
      "metadata": {
        "colab": {
          "base_uri": "https://localhost:8080/"
        },
        "id": "zukZ3BmOz1XF",
        "outputId": "b12fe27e-d1ab-4c2d-9423-bb33bdc48cce"
      },
      "outputs": [],
      "source": [
        "titanic['Age'].skew()"
      ]
    },
    {
      "cell_type": "code",
      "execution_count": null,
      "metadata": {
        "colab": {
          "base_uri": "https://localhost:8080/"
        },
        "id": "6EBKSsQd7SOy",
        "outputId": "d042a547-4320-48c8-9ec1-55137d352a14"
      },
      "outputs": [],
      "source": [
        "titanic['Age'].mean() + 3*titanic['Age'].std()"
      ]
    },
    {
      "cell_type": "code",
      "execution_count": null,
      "metadata": {
        "colab": {
          "base_uri": "https://localhost:8080/"
        },
        "id": "uf9R_YNL9uMs",
        "outputId": "b70b3edb-fda6-4ebe-ae77-fe613c79c493"
      },
      "outputs": [],
      "source": [
        "titanic['Age'].mean() - 3*titanic['Age'].std()"
      ]
    },
    {
      "cell_type": "code",
      "execution_count": null,
      "metadata": {
        "colab": {
          "base_uri": "https://localhost:8080/",
          "height": 112
        },
        "id": "rf3bBw7D9xgD",
        "outputId": "1b0db4c9-e0a0-4851-a162-71b0d1298c82"
      },
      "outputs": [],
      "source": [
        "titanic[titanic['Age'] > 73]"
      ]
    },
    {
      "cell_type": "code",
      "execution_count": null,
      "metadata": {
        "colab": {
          "base_uri": "https://localhost:8080/"
        },
        "id": "KQu5isNq9-5b",
        "outputId": "81c376ea-9345-4043-8be1-1de17bfea78d"
      },
      "outputs": [],
      "source": [
        "titanic['Age'].max()"
      ]
    },
    {
      "cell_type": "code",
      "execution_count": null,
      "metadata": {
        "id": "Gqi-IezQ-D_w"
      },
      "outputs": [],
      "source": []
    }
  ],
  "metadata": {
    "colab": {
      "provenance": []
    },
    "kernelspec": {
      "display_name": "Python 3",
      "name": "python3"
    },
    "language_info": {
      "codemirror_mode": {
        "name": "ipython",
        "version": 3
      },
      "file_extension": ".py",
      "mimetype": "text/x-python",
      "name": "python",
      "nbconvert_exporter": "python",
      "pygments_lexer": "ipython3",
      "version": "3.11.9"
    }
  },
  "nbformat": 4,
  "nbformat_minor": 0
}
