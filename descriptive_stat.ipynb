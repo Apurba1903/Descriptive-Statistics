{
 "cells": [
  {
   "cell_type": "code",
   "execution_count": 1,
   "id": "1d083980",
   "metadata": {},
   "outputs": [],
   "source": [
    "import pandas as pd\n",
    "import numpy as np"
   ]
  },
  {
   "cell_type": "code",
   "execution_count": 2,
   "id": "48cd93bd",
   "metadata": {},
   "outputs": [],
   "source": [
    "df = pd.read_csv(\"C:\\\\Users\\\\ACER\\\\Desktop\\\\DSMP1\\\\Datasets\\\\datasets-session-22\\\\titanic.csv\")"
   ]
  },
  {
   "cell_type": "code",
   "execution_count": 3,
   "id": "62071e18",
   "metadata": {},
   "outputs": [
    {
     "data": {
      "text/plain": [
       "Index(['PassengerId', 'Survived', 'Pclass', 'Name', 'Sex', 'Age', 'SibSp',\n",
       "       'Parch', 'Ticket', 'Fare', 'Cabin', 'Embarked'],\n",
       "      dtype='object')"
      ]
     },
     "execution_count": 3,
     "metadata": {},
     "output_type": "execute_result"
    }
   ],
   "source": [
    "df.columns"
   ]
  },
  {
   "cell_type": "markdown",
   "id": "87969384",
   "metadata": {},
   "source": [
    "### Coefficient Of Variation"
   ]
  },
  {
   "cell_type": "code",
   "execution_count": 17,
   "id": "849e696e",
   "metadata": {},
   "outputs": [
    {
     "name": "stdout",
     "output_type": "stream",
     "text": [
      "Coefficient Of Variation of Age: 48.87795429927496\n",
      "\n",
      "Standard Deviation: 14.516321150817316\n",
      "Average: 29.69911764705882\n"
     ]
    }
   ],
   "source": [
    "age_std = np.std(df['Age'])\n",
    "age_avg = np.mean(df['Age'])\n",
    "\n",
    "coefficient_of_variation = (age_std/age_avg)*100\n",
    "print(f'Coefficient Of Variation of Age: {coefficient_of_variation}\\n')\n",
    "print(f'Standard Deviation: {age_std}')\n",
    "print(f'Average: {age_avg}')"
   ]
  },
  {
   "cell_type": "code",
   "execution_count": 18,
   "id": "0087e69d",
   "metadata": {},
   "outputs": [
    {
     "name": "stdout",
     "output_type": "stream",
     "text": [
      "Coefficient Of Variation of Fare: 154.22063630081666\n",
      "\n",
      "Standard Deviation: 49.6655344447741\n",
      "Average: 32.204207968574636\n"
     ]
    }
   ],
   "source": [
    "fare_std = np.std(df['Fare'])\n",
    "fare_avg = np.mean(df['Fare'])\n",
    "\n",
    "coefficient_of_variation = (fare_std/fare_avg)*100\n",
    "print(f'Coefficient Of Variation of Fare: {coefficient_of_variation}\\n')\n",
    "print(f'Standard Deviation: {fare_std}')\n",
    "print(f'Average: {fare_avg}')"
   ]
  },
  {
   "cell_type": "code",
   "execution_count": 19,
   "id": "74018b14",
   "metadata": {},
   "outputs": [
    {
     "name": "stdout",
     "output_type": "stream",
     "text": [
      "<class 'pandas.core.frame.DataFrame'>\n",
      "RangeIndex: 891 entries, 0 to 890\n",
      "Data columns (total 12 columns):\n",
      " #   Column       Non-Null Count  Dtype  \n",
      "---  ------       --------------  -----  \n",
      " 0   PassengerId  891 non-null    int64  \n",
      " 1   Survived     891 non-null    int64  \n",
      " 2   Pclass       891 non-null    int64  \n",
      " 3   Name         891 non-null    object \n",
      " 4   Sex          891 non-null    object \n",
      " 5   Age          714 non-null    float64\n",
      " 6   SibSp        891 non-null    int64  \n",
      " 7   Parch        891 non-null    int64  \n",
      " 8   Ticket       891 non-null    object \n",
      " 9   Fare         891 non-null    float64\n",
      " 10  Cabin        204 non-null    object \n",
      " 11  Embarked     889 non-null    object \n",
      "dtypes: float64(2), int64(5), object(5)\n",
      "memory usage: 83.7+ KB\n"
     ]
    }
   ],
   "source": [
    "df.info()"
   ]
  },
  {
   "cell_type": "code",
   "execution_count": null,
   "id": "dde76cf0",
   "metadata": {},
   "outputs": [],
   "source": []
  },
  {
   "cell_type": "code",
   "execution_count": null,
   "id": "48e093f9",
   "metadata": {},
   "outputs": [],
   "source": []
  }
 ],
 "metadata": {
  "kernelspec": {
   "display_name": "Python 3",
   "language": "python",
   "name": "python3"
  },
  "language_info": {
   "codemirror_mode": {
    "name": "ipython",
    "version": 3
   },
   "file_extension": ".py",
   "mimetype": "text/x-python",
   "name": "python",
   "nbconvert_exporter": "python",
   "pygments_lexer": "ipython3",
   "version": "3.11.9"
  }
 },
 "nbformat": 4,
 "nbformat_minor": 5
}
